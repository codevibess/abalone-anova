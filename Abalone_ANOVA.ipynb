{
  "nbformat": 4,
  "nbformat_minor": 0,
  "metadata": {
    "colab": {
      "name": "Abalone-ANOVA.ipynb",
      "provenance": [],
      "collapsed_sections": []
    },
    "kernelspec": {
      "name": "python3",
      "display_name": "Python 3"
    }
  },
  "cells": [
    {
      "cell_type": "markdown",
      "metadata": {
        "id": "4WybxaE1kKhX",
        "colab_type": "text"
      },
      "source": [
        "ANOVA for Abalone dataset"
      ]
    },
    {
      "cell_type": "markdown",
      "metadata": {
        "id": "wCQ91tESmC5c",
        "colab_type": "text"
      },
      "source": [
        "There are 3 assumptions that need to be met for the results of an ANOVA test to be considered accurate and trust worthy. It’s important to note the the assumptions apply to the residuals and not the variables themselves. The ANOVA assumptions are the same as for linear regression and are:\n",
        "\n",
        "\n",
        "1.   Normality\n",
        "2.   Homogeneity of variance\n",
        "3.   Independent observations\n",
        "\n"
      ]
    },
    {
      "cell_type": "markdown",
      "metadata": {
        "id": "jR8WXjL0TodA",
        "colab_type": "text"
      },
      "source": [
        "Dane, które postanowiliśmy analizować to dane dotyczące uchowców. Na początek postanowiliśmy sprawdzić czy długość uchowca ma wpływ na jego płeć. Na początek wczytujemy dane i wybieramy po 1000 próbek dla każdej z płci."
      ]
    },
    {
      "cell_type": "code",
      "metadata": {
        "id": "ghyhIvlGxlZO",
        "colab_type": "code",
        "outputId": "8e7dcf9d-ce42-43f1-e2bd-bc4eca54d541",
        "colab": {
          "base_uri": "https://localhost:8080/",
          "height": 255
        }
      },
      "source": [
        "import pandas as pd\n",
        "\n",
        "data_url='https://raw.githubusercontent.com/codevibess/abalone-anova/master/data/abalone.data'\n",
        "df = pd.read_csv(data_url)\n",
        "a = df[df.Sex == \"M\"].head(1000)\n",
        "b = df[df.Sex == 'F'].head(1000)\n",
        "c = df[df.Sex == 'I'].head(1000)\n",
        "df = a.append(b).append(c)\n",
        "\n",
        "print(df)"
      ],
      "execution_count": 0,
      "outputs": [
        {
          "output_type": "stream",
          "text": [
            "     Sex  Length  Diameter  ...  Viscera weight  Shell weight  Rings\n",
            "0      M   0.455     0.365  ...          0.1010        0.1500     15\n",
            "1      M   0.350     0.265  ...          0.0485        0.0700      7\n",
            "3      M   0.440     0.365  ...          0.1140        0.1550     10\n",
            "8      M   0.475     0.370  ...          0.1125        0.1650      9\n",
            "11     M   0.430     0.350  ...          0.0810        0.1350     10\n",
            "...   ..     ...       ...  ...             ...           ...    ...\n",
            "3106   I   0.300     0.220  ...          0.0260        0.0315      5\n",
            "3107   I   0.370     0.275  ...          0.0505        0.0680      5\n",
            "3108   I   0.375     0.285  ...          0.0400        0.0725      7\n",
            "3109   I   0.380     0.290  ...          0.0465        0.0750      7\n",
            "3110   I   0.395     0.300  ...          0.0680        0.0895      8\n",
            "\n",
            "[3000 rows x 9 columns]\n"
          ],
          "name": "stdout"
        }
      ]
    },
    {
      "cell_type": "markdown",
      "metadata": {
        "id": "vNZBOnRzWfw7",
        "colab_type": "text"
      },
      "source": [
        "Następnie dzielimy dane na grupy oraz wyznaczamy ilość danych oraz ilosć w poszczególnych grupach"
      ]
    },
    {
      "cell_type": "code",
      "metadata": {
        "id": "CofaWZVHXmGy",
        "colab_type": "code",
        "colab": {}
      },
      "source": [
        "groups = pd.unique(df.Sex.values)\n",
        "data = {g:df['Length'][df.Sex == g] for g in groups}\n",
        "\n",
        "k = len(pd.unique(df.Sex))\n",
        "N = len(df.values)\n",
        "n1, n2, n3 = df.groupby('Sex').size()\n"
      ],
      "execution_count": 0,
      "outputs": []
    },
    {
      "cell_type": "markdown",
      "metadata": {
        "id": "uaMhtXDzX2FA",
        "colab_type": "text"
      },
      "source": [
        "Kolejnym krokiem jest wyznaczenie statystyki testowej F oraz wartosći p-value korzystając z biblioteki SciPy"
      ]
    },
    {
      "cell_type": "code",
      "metadata": {
        "id": "1Z-_6-BEX_CM",
        "colab_type": "code",
        "outputId": "8553d9ff-b115-4af4-8ee8-b11377fb264b",
        "colab": {
          "base_uri": "https://localhost:8080/",
          "height": 34
        }
      },
      "source": [
        "#Anova korzystając z SciPy\n",
        "\n",
        "from scipy import stats\n",
        "\n",
        "F, p = stats.f_oneway(data['M'], data['F'], data['I'])\n",
        "\n",
        "print(\"F = \",F, \"prawdopodobieństwo hipotezy zerowej = \",p)\n",
        "\n",
        "#prawdopodobieństwo hipotezy zerowej wyszło 3.0881829496997467e-232, oznacza to, że średnia długość uchowca róźni się miedzy grupami "
      ],
      "execution_count": 0,
      "outputs": [
        {
          "output_type": "stream",
          "text": [
            "F =  640.2077341389622 prawdopodobieństwo hipotezy zerowej =  3.0881829496997467e-232\n"
          ],
          "name": "stdout"
        }
      ]
    },
    {
      "cell_type": "markdown",
      "metadata": {
        "id": "BS8JimEiYJzz",
        "colab_type": "text"
      },
      "source": [
        "Koeljnym krokiem było analizy wariancji bez uzycia biblioteki SciPy"
      ]
    },
    {
      "cell_type": "code",
      "metadata": {
        "id": "jmI9ntAUYU8z",
        "colab_type": "code",
        "outputId": "089fc392-a668-4e87-b106-e9dc69c255c7",
        "colab": {
          "base_uri": "https://localhost:8080/",
          "height": 111
        }
      },
      "source": [
        "#teraz anova bez biblioteki\n",
        "#njpierw obliczamy stopnie swobody\n",
        "DFbetween = k - 1\n",
        "DFwithin = N - k\n",
        "DFtotal = N - 1\n",
        "\n",
        "#suma kwadratów odchyleń pomiędzy grupami\n",
        "\n",
        "SSbetween  = (sum(df.groupby(['Sex']).sum()['Length']**2)/n1)- (df['Length'].sum()**2)/N\n",
        "\n",
        "#print(\"SSBetween: \"+str(SSbetween))\n",
        "#suma kwadratów odchyleń wewnątrzgrupowych\n",
        "sum_y_squared = sum([value**2 for value in df['Length'].values])\n",
        "SSwithin = sum_y_squared - sum(df.groupby('Sex').sum()['Length']**2)/n1\n",
        "#print(\"SSWithin: \"+str(SSwithin))\n",
        "# Ogólnie\n",
        "SStotal = sum_y_squared - (df['Length'].sum()**2)/N\n",
        "#średnie kwadraty odchyleń\n",
        "MSbetween = SSbetween/DFbetween\n",
        "MSwithin = SSwithin/DFwithin\n",
        "\n",
        "#Wartość F statystyki testowej\n",
        "F = MSbetween/MSwithin\n",
        "\n",
        "#p-value\n",
        "p = stats.f.sf(F, DFbetween, DFwithin)\n",
        "\n",
        "eta_sqrd = SSbetween/SStotal\n",
        "om_sqrd = (SSbetween - (DFbetween * MSwithin))/(SStotal + MSwithin)\n",
        "\n",
        "results = {'sum_sq':[SSbetween, SSwithin],\n",
        "           'df':[DFbetween, DFwithin],\n",
        "           'F':[F, ''],\n",
        "            'PR(>F)':[p, ''],\n",
        "          'EtaSq':[eta_sqrd, ''],\n",
        "          'OmegaSq':[om_sqrd, '']}\n",
        "\n",
        "aov_table1 = pd.DataFrame(results, \n",
        "                          index=['Group', 'Residual'])\n",
        "    \n",
        "aov_table1\n"
      ],
      "execution_count": 0,
      "outputs": [
        {
          "output_type": "execute_result",
          "data": {
            "text/html": [
              "<div>\n",
              "<style scoped>\n",
              "    .dataframe tbody tr th:only-of-type {\n",
              "        vertical-align: middle;\n",
              "    }\n",
              "\n",
              "    .dataframe tbody tr th {\n",
              "        vertical-align: top;\n",
              "    }\n",
              "\n",
              "    .dataframe thead th {\n",
              "        text-align: right;\n",
              "    }\n",
              "</style>\n",
              "<table border=\"1\" class=\"dataframe\">\n",
              "  <thead>\n",
              "    <tr style=\"text-align: right;\">\n",
              "      <th></th>\n",
              "      <th>sum_sq</th>\n",
              "      <th>df</th>\n",
              "      <th>F</th>\n",
              "      <th>PR(&gt;F)</th>\n",
              "      <th>EtaSq</th>\n",
              "      <th>OmegaSq</th>\n",
              "    </tr>\n",
              "  </thead>\n",
              "  <tbody>\n",
              "    <tr>\n",
              "      <th>Group</th>\n",
              "      <td>13.191573</td>\n",
              "      <td>2</td>\n",
              "      <td>640.208</td>\n",
              "      <td>3.08818e-232</td>\n",
              "      <td>0.299343</td>\n",
              "      <td>0.298806</td>\n",
              "    </tr>\n",
              "    <tr>\n",
              "      <th>Residual</th>\n",
              "      <td>30.876809</td>\n",
              "      <td>2997</td>\n",
              "      <td></td>\n",
              "      <td></td>\n",
              "      <td></td>\n",
              "      <td></td>\n",
              "    </tr>\n",
              "  </tbody>\n",
              "</table>\n",
              "</div>"
            ],
            "text/plain": [
              "             sum_sq    df        F        PR(>F)     EtaSq   OmegaSq\n",
              "Group     13.191573     2  640.208  3.08818e-232  0.299343  0.298806\n",
              "Residual  30.876809  2997                                           "
            ]
          },
          "metadata": {
            "tags": []
          },
          "execution_count": 106
        }
      ]
    },
    {
      "cell_type": "markdown",
      "metadata": {
        "id": "0-6A9tD8YsOj",
        "colab_type": "text"
      },
      "source": [
        "Następnie przeprowadzamy analizę pomiędzy poszczególnymi grupami. Analiza zostaje przeprowadzona na poziomie ufności 99%. "
      ]
    },
    {
      "cell_type": "code",
      "metadata": {
        "id": "lFeUdJxiYxu9",
        "colab_type": "code",
        "outputId": "d04403b8-1033-49eb-95ee-fff24a6cf205",
        "colab": {
          "base_uri": "https://localhost:8080/",
          "height": 153
        }
      },
      "source": [
        "#Teraz sprawdzimy poszczególne grupy\n",
        "\n",
        "from statsmodels.stats.multicomp import (pairwise_tukeyhsd,\n",
        "                                         MultiComparison)\n",
        "\n",
        "MultiComp = MultiComparison(df['Length'],\n",
        "                            df['Sex'])\n",
        "\n",
        "\n",
        "print(MultiComp.tukeyhsd(0.01).summary())\n",
        "\n",
        "#Widać na podstawie danych, że średnie miedzy poszczególnymi grupami róźnią się od siebie na poziomie ufnośći 99%"
      ],
      "execution_count": 0,
      "outputs": [
        {
          "output_type": "stream",
          "text": [
            "Multiple Comparison of Means - Tukey HSD, FWER=0.01\n",
            "===================================================\n",
            "group1 group2 meandiff p-adj  lower   upper  reject\n",
            "---------------------------------------------------\n",
            "     F      I  -0.1513 0.001 -0.1645 -0.1381   True\n",
            "     F      M  -0.0245 0.001 -0.0377 -0.0113   True\n",
            "     I      M   0.1268 0.001  0.1136    0.14   True\n",
            "---------------------------------------------------\n"
          ],
          "name": "stdout"
        }
      ]
    },
    {
      "cell_type": "markdown",
      "metadata": {
        "id": "O31eTW2ObodN",
        "colab_type": "text"
      },
      "source": [
        "Mimo tak dużego poziomu ufności widać, że możemy odrzucić hipotezę, że średnie są równe między sobą. Oznacza to, że długość uchowca doskonale określa płeć uchowca. Ponizej przedstawiamy wykresy pudełkowe dla poszczególnych płci:"
      ]
    },
    {
      "cell_type": "code",
      "metadata": {
        "id": "XNod4mT9b0SK",
        "colab_type": "code",
        "outputId": "ab0c4416-fb9c-40c2-e2b3-c7e45d681d08",
        "colab": {
          "base_uri": "https://localhost:8080/",
          "height": 557
        }
      },
      "source": [
        "df.boxplot('Length', by='Sex', figsize=(12, 8))"
      ],
      "execution_count": 0,
      "outputs": [
        {
          "output_type": "execute_result",
          "data": {
            "text/plain": [
              "<matplotlib.axes._subplots.AxesSubplot at 0x7f561912a6a0>"
            ]
          },
          "metadata": {
            "tags": []
          },
          "execution_count": 108
        },
        {
          "output_type": "display_data",
          "data": {
            "image/png": "[encoded data removed]",
            "text/plain": [
              "<Figure size 864x576 with 1 Axes>"
            ]
          },
          "metadata": {
            "tags": []
          }
        }
      ]
    },
    {
      "cell_type": "markdown",
      "metadata": {
        "id": "m14MJjLRcON4",
        "colab_type": "text"
      },
      "source": [
        "Możemy zauważyć , że najbardziej zbliżone są do siebie płeć męska i żeńska. Ogólnie mamt też mało obserwacji nietypowych. Jednak najwięcej jest ich dla płci męskiej. Jeżeli będziemy klasyfikować płeć uchowca na podstawie jego długosci to niektóre płci męskie i żeńskie będziemy klasyfikować jako nijakie."
      ]
    },
    {
      "cell_type": "markdown",
      "metadata": {
        "id": "COFkrTsUeA0t",
        "colab_type": "text"
      },
      "source": [
        "Teraz przeprowadzimy 1 czynnikową analizę wariancji ze wzgledu na wysokość uchowca"
      ]
    },
    {
      "cell_type": "code",
      "metadata": {
        "id": "pjJCDev3cuXo",
        "colab_type": "code",
        "outputId": "c4807cc8-e761-4b8d-c42e-b25080d23108",
        "colab": {
          "base_uri": "https://localhost:8080/",
          "height": 170
        }
      },
      "source": [
        "groups = pd.unique(df.Sex.values)\n",
        "data = {g:df['Height'][df.Sex == g] for g in groups}\n",
        "\n",
        "k = len(pd.unique(df.Sex))\n",
        "N = len(df.values)\n",
        "n1, n2, n3 = df.groupby('Sex').size()\n",
        "\n",
        "#Anova korzystając z SciPy\n",
        "\n",
        "from scipy import stats\n",
        "\n",
        "F, p = stats.f_oneway(data['M'], data['F'], data['I'])\n",
        "\n",
        "print(\"F = \",F, \"prawdopodobieństwo hipotezy zerowej = \",p)\n",
        "\n",
        "\n",
        "MultiComp = MultiComparison(df['Height'],\n",
        "                            df['Sex'])\n",
        "\n",
        "\n",
        "print(MultiComp.tukeyhsd(0.01).summary())\n"
      ],
      "execution_count": 0,
      "outputs": [
        {
          "output_type": "stream",
          "text": [
            "F =  521.5486634576289 prawdopodobieństwo hipotezy zerowej =  4.334418114792542e-195\n",
            "Multiple Comparison of Means - Tukey HSD, FWER=0.01\n",
            "===================================================\n",
            "group1 group2 meandiff p-adj  lower   upper  reject\n",
            "---------------------------------------------------\n",
            "     F      I  -0.0503 0.001 -0.0552 -0.0455   True\n",
            "     F      M  -0.0081 0.001  -0.013 -0.0032   True\n",
            "     I      M   0.0423 0.001  0.0374  0.0472   True\n",
            "---------------------------------------------------\n"
          ],
          "name": "stdout"
        }
      ]
    },
    {
      "cell_type": "markdown",
      "metadata": {
        "id": "btt5ISFMezNL",
        "colab_type": "text"
      },
      "source": [
        "Mimo tak dużego poziomu ufności widać, że możemy odrzucić hipotezę, że średnie są równe między sobą. Oznacza to, że Wysokość uchowca doskonale określa płeć uchowca. Ponizej przedstawiamy wykresy pudełkowe dla poszczególnych płci:"
      ]
    },
    {
      "cell_type": "code",
      "metadata": {
        "id": "RaOCCYnAeyvL",
        "colab_type": "code",
        "outputId": "8e3a5327-1696-46d7-e79a-cf0cce21d638",
        "colab": {
          "base_uri": "https://localhost:8080/",
          "height": 557
        }
      },
      "source": [
        "df.boxplot('Height', by='Sex', figsize=(12, 8))"
      ],
      "execution_count": 0,
      "outputs": [
        {
          "output_type": "execute_result",
          "data": {
            "text/plain": [
              "<matplotlib.axes._subplots.AxesSubplot at 0x7f56191152b0>"
            ]
          },
          "metadata": {
            "tags": []
          },
          "execution_count": 112
        },
        {
          "output_type": "display_data",
          "data": {
            "image/png": "[encoded data removed]",
            "text/plain": [
              "<Figure size 864x576 with 1 Axes>"
            ]
          },
          "metadata": {
            "tags": []
          }
        }
      ]
    },
    {
      "cell_type": "markdown",
      "metadata": {
        "id": "GB74UI6KfLs4",
        "colab_type": "text"
      },
      "source": [
        "Możemy zauważyć , że najbardziej zbliżone są do siebie płeć męska i żeńska tak jak w przypadku długości Ogólnie mamy też mało obserwacji nietypowych. Jednak najwięcej jest ich dla płci męskiej jak w przypadku długości. Jeżeli będziemy klasyfikować płeć uchowca na podstawie jego długosci to niektóre płci męskie i żeńskie będziemy klasyfikować jako nijakie."
      ]
    },
    {
      "cell_type": "code",
      "metadata": {
        "id": "8fc_GkVDftpl",
        "colab_type": "code",
        "colab": {}
      },
      "source": [
        ""
      ],
      "execution_count": 0,
      "outputs": []
    },
    {
      "cell_type": "markdown",
      "metadata": {
        "id": "ja5rhGhxf4ed",
        "colab_type": "text"
      },
      "source": [
        "Teraz przeprowadzimy 1 czynnikową analizę wariancji ze wzgledu na pierścień uchowca"
      ]
    },
    {
      "cell_type": "code",
      "metadata": {
        "id": "qSwjrswUgMaT",
        "colab_type": "code",
        "outputId": "28982b5d-e27b-4757-9154-33ca40f5e626",
        "colab": {
          "base_uri": "https://localhost:8080/",
          "height": 170
        }
      },
      "source": [
        "groups = pd.unique(df.Sex.values)\n",
        "data = {g:df['Rings'][df.Sex == g] for g in groups}\n",
        "\n",
        "k = len(pd.unique(df.Sex))\n",
        "N = len(df.values)\n",
        "n1, n2, n3 = df.groupby('Sex').size()\n",
        "\n",
        "#Anova korzystając z SciPy\n",
        "\n",
        "from scipy import stats\n",
        "\n",
        "F, p = stats.f_oneway(data['M'], data['F'], data['I'])\n",
        "\n",
        "print(\"F = \",F, \"prawdopodobieństwo hipotezy zerowej = \",p)\n",
        "\n",
        "\n",
        "\n",
        "\n",
        "MultiComp = MultiComparison(df['Rings'],\n",
        "                            df['Sex'])\n",
        "\n",
        "\n",
        "print(MultiComp.tukeyhsd(0.01).summary())"
      ],
      "execution_count": 0,
      "outputs": [
        {
          "output_type": "stream",
          "text": [
            "F =  369.97385454679113 prawdopodobieństwo hipotezy zerowej =  2.502237830311564e-144\n",
            "Multiple Comparison of Means - Tukey HSD, FWER=0.01 \n",
            "====================================================\n",
            "group1 group2 meandiff p-adj   lower   upper  reject\n",
            "----------------------------------------------------\n",
            "     F      I    -3.33  0.001 -3.7221 -2.9379   True\n",
            "     F      M   -0.354 0.0232 -0.7461  0.0381  False\n",
            "     I      M    2.976  0.001  2.5839  3.3681   True\n",
            "----------------------------------------------------\n"
          ],
          "name": "stdout"
        }
      ]
    },
    {
      "cell_type": "markdown",
      "metadata": {
        "id": "VG6fW6J8g8nv",
        "colab_type": "text"
      },
      "source": [
        "Mimo tak dużego poziomu ufności widać, że możemy odrzucić hipotezę, że średnie są równe między sobą. Oznacza to, że Wysokość uchowca doskonale określa płeć uchowca. Zauważmy jednak, że nie mozemy odrzucić hipotezy alternatywnej na korzyść hipotezy zerowej w przypadku porównania średniej dla płci męskiej i żeńskiej. Poniżej model pudełkowy:"
      ]
    },
    {
      "cell_type": "code",
      "metadata": {
        "id": "1lALI-MdhTl4",
        "colab_type": "code",
        "outputId": "c796e7fb-6167-4b8d-9770-9dd63a5e68b2",
        "colab": {
          "base_uri": "https://localhost:8080/",
          "height": 557
        }
      },
      "source": [
        "df.boxplot('Rings', by='Sex', figsize=(12, 8))"
      ],
      "execution_count": 0,
      "outputs": [
        {
          "output_type": "execute_result",
          "data": {
            "text/plain": [
              "<matplotlib.axes._subplots.AxesSubplot at 0x7f56191621d0>"
            ]
          },
          "metadata": {
            "tags": []
          },
          "execution_count": 117
        },
        {
          "output_type": "display_data",
          "data": {
            "image/png": "[encoded data removed]",
            "text/plain": [
              "<Figure size 864x576 with 1 Axes>"
            ]
          },
          "metadata": {
            "tags": []
          }
        }
      ]
    },
    {
      "cell_type": "markdown",
      "metadata": {
        "id": "aYkNclZQhbjy",
        "colab_type": "text"
      },
      "source": [
        "Możemy zauważyć, że najbardziej zbliżone są do siebie płeć męska i żeńska, co może tłumaczyć, że nie nie możemy odrzucić hipotezy zerowej na korzyść hipotezy alternatywnej. Mamy tez trochę wartosci nietypowych jednak są one równomierne dla każdej płci."
      ]
    }
  ]
}